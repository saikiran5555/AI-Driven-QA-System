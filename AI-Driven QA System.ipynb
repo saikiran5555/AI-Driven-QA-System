{
 "cells": [
  {
   "cell_type": "code",
   "execution_count": 1,
   "id": "8da20813-8d4b-45f7-979d-e2d7c409d645",
   "metadata": {
    "scrolled": true
   },
   "outputs": [
    {
     "name": "stdout",
     "output_type": "stream",
     "text": [
      "   Case_ID Report_Date  Patient_Age  Gender Medication Adverse_Event  \\\n",
      "0        1  2023-01-01         30.0    Male       MedA      Headache   \n",
      "1        2  2023-01-05         45.0  Female       MedB        Nausea   \n",
      "2        3  2023-01-10          NaN  Female        NaN     Dizziness   \n",
      "3        4  2023-01-15         23.0    Male       MedD           NaN   \n",
      "4        5  2023-01-20         40.0  Female       MedE       Fatigue   \n",
      "\n",
      "  Severity_Level        Outcome  Missing_Info  Unusual_Symptoms  \n",
      "0           Mild      Recovered         False               NaN  \n",
      "1       Moderate       Improved         False               NaN  \n",
      "2         Severe  Not Recovered          True               NaN  \n",
      "3           Mild      Recovered          True               NaN  \n",
      "4            NaN       Improved          True               NaN  \n",
      "<class 'pandas.core.frame.DataFrame'>\n",
      "RangeIndex: 5 entries, 0 to 4\n",
      "Data columns (total 10 columns):\n",
      " #   Column            Non-Null Count  Dtype  \n",
      "---  ------            --------------  -----  \n",
      " 0   Case_ID           5 non-null      int64  \n",
      " 1   Report_Date       5 non-null      object \n",
      " 2   Patient_Age       4 non-null      float64\n",
      " 3   Gender            5 non-null      object \n",
      " 4   Medication        4 non-null      object \n",
      " 5   Adverse_Event     4 non-null      object \n",
      " 6   Severity_Level    4 non-null      object \n",
      " 7   Outcome           5 non-null      object \n",
      " 8   Missing_Info      5 non-null      bool   \n",
      " 9   Unusual_Symptoms  0 non-null      float64\n",
      "dtypes: bool(1), float64(2), int64(1), object(6)\n",
      "memory usage: 497.0+ bytes\n",
      "None\n",
      "        Case_ID  Patient_Age  Unusual_Symptoms\n",
      "count  5.000000     4.000000               0.0\n",
      "mean   3.000000    34.500000               NaN\n",
      "std    1.581139     9.882645               NaN\n",
      "min    1.000000    23.000000               NaN\n",
      "25%    2.000000    28.250000               NaN\n",
      "50%    3.000000    35.000000               NaN\n",
      "75%    4.000000    41.250000               NaN\n",
      "max    5.000000    45.000000               NaN\n"
     ]
    }
   ],
   "source": [
    "import pandas as pd\n",
    "\n",
    "# Load the dataset\n",
    "data = pd.read_csv('pv_case_reports.csv')\n",
    "\n",
    "# Explore the data\n",
    "print(data.head())\n",
    "print(data.info())\n",
    "print(data.describe())\n"
   ]
  },
  {
   "cell_type": "code",
   "execution_count": 5,
   "id": "9dd8a49a-6316-46ad-ab26-cb6eef538f2c",
   "metadata": {},
   "outputs": [
    {
     "name": "stdout",
     "output_type": "stream",
     "text": [
      "<class 'pandas.core.frame.DataFrame'>\n",
      "RangeIndex: 5 entries, 0 to 4\n",
      "Data columns (total 10 columns):\n",
      " #   Column            Non-Null Count  Dtype  \n",
      "---  ------            --------------  -----  \n",
      " 0   Case_ID           5 non-null      int64  \n",
      " 1   Report_Date       5 non-null      object \n",
      " 2   Patient_Age       5 non-null      float64\n",
      " 3   Gender            5 non-null      object \n",
      " 4   Medication        5 non-null      object \n",
      " 5   Adverse_Event     5 non-null      object \n",
      " 6   Severity_Level    5 non-null      object \n",
      " 7   Outcome           5 non-null      object \n",
      " 8   Missing_Info      2 non-null      object \n",
      " 9   Unusual_Symptoms  5 non-null      int32  \n",
      "dtypes: float64(1), int32(1), int64(1), object(7)\n",
      "memory usage: 512.0+ bytes\n",
      "None\n",
      "        Case_ID  Patient_Age  Unusual_Symptoms\n",
      "count  5.000000     5.000000          5.000000\n",
      "mean   3.000000    47.500000          0.400000\n",
      "std    1.581139    11.456439          0.547723\n",
      "min    1.000000    30.000000          0.000000\n",
      "25%    2.000000    45.000000          0.000000\n",
      "50%    3.000000    47.500000          0.000000\n",
      "75%    4.000000    55.000000          1.000000\n",
      "max    5.000000    60.000000          1.000000\n"
     ]
    }
   ],
   "source": [
    "import pandas as pd\n",
    "\n",
    "# Load your dataset (assuming you have it in 'pv_case_data.csv')\n",
    "df = pd.read_csv('pv_case_data.csv')\n",
    "\n",
    "# Step 1: Handle Missing Values\n",
    "# Fill missing Patient_Age with the mean\n",
    "df['Patient_Age'] = df['Patient_Age'].fillna(df['Patient_Age'].mean())\n",
    "\n",
    "# Fill missing Medication with the most frequent value\n",
    "df['Medication'] = df['Medication'].fillna(df['Medication'].mode()[0])\n",
    "\n",
    "# Fill missing Adverse_Event and Severity_Level with the most frequent value\n",
    "df['Adverse_Event'] = df['Adverse_Event'].fillna(df['Adverse_Event'].mode()[0])\n",
    "df['Severity_Level'] = df['Severity_Level'].fillna(df['Severity_Level'].mode()[0])\n",
    "\n",
    "# For Unusual_Symptoms, we already created a binary feature\n",
    "df['Unusual_Symptoms'] = df['Unusual_Symptoms'].isnull().astype(int)\n",
    "\n",
    "# Check the cleaned data\n",
    "print(df.info())\n",
    "print(df.describe())\n"
   ]
  },
  {
   "cell_type": "code",
   "execution_count": 17,
   "id": "ebd658ba-1b02-4b90-adc7-f7c11c868ae1",
   "metadata": {},
   "outputs": [
    {
     "name": "stdout",
     "output_type": "stream",
     "text": [
      "              precision    recall  f1-score   support\n",
      "\n",
      "           0       0.00      0.00      0.00       1.0\n",
      "           1       0.00      0.00      0.00       0.0\n",
      "\n",
      "    accuracy                           0.00       1.0\n",
      "   macro avg       0.00      0.00      0.00       1.0\n",
      "weighted avg       0.00      0.00      0.00       1.0\n",
      "\n"
     ]
    },
    {
     "name": "stderr",
     "output_type": "stream",
     "text": [
      "C:\\Users\\saik7\\anaconda3\\Lib\\site-packages\\sklearn\\metrics\\_classification.py:1531: UndefinedMetricWarning: Precision is ill-defined and being set to 0.0 in labels with no predicted samples. Use `zero_division` parameter to control this behavior.\n",
      "  _warn_prf(average, modifier, f\"{metric.capitalize()} is\", len(result))\n",
      "C:\\Users\\saik7\\anaconda3\\Lib\\site-packages\\sklearn\\metrics\\_classification.py:1531: UndefinedMetricWarning: Recall is ill-defined and being set to 0.0 in labels with no true samples. Use `zero_division` parameter to control this behavior.\n",
      "  _warn_prf(average, modifier, f\"{metric.capitalize()} is\", len(result))\n",
      "C:\\Users\\saik7\\anaconda3\\Lib\\site-packages\\sklearn\\metrics\\_classification.py:1531: UndefinedMetricWarning: Precision is ill-defined and being set to 0.0 in labels with no predicted samples. Use `zero_division` parameter to control this behavior.\n",
      "  _warn_prf(average, modifier, f\"{metric.capitalize()} is\", len(result))\n",
      "C:\\Users\\saik7\\anaconda3\\Lib\\site-packages\\sklearn\\metrics\\_classification.py:1531: UndefinedMetricWarning: Recall is ill-defined and being set to 0.0 in labels with no true samples. Use `zero_division` parameter to control this behavior.\n",
      "  _warn_prf(average, modifier, f\"{metric.capitalize()} is\", len(result))\n",
      "C:\\Users\\saik7\\anaconda3\\Lib\\site-packages\\sklearn\\metrics\\_classification.py:1531: UndefinedMetricWarning: Precision is ill-defined and being set to 0.0 in labels with no predicted samples. Use `zero_division` parameter to control this behavior.\n",
      "  _warn_prf(average, modifier, f\"{metric.capitalize()} is\", len(result))\n",
      "C:\\Users\\saik7\\anaconda3\\Lib\\site-packages\\sklearn\\metrics\\_classification.py:1531: UndefinedMetricWarning: Recall is ill-defined and being set to 0.0 in labels with no true samples. Use `zero_division` parameter to control this behavior.\n",
      "  _warn_prf(average, modifier, f\"{metric.capitalize()} is\", len(result))\n"
     ]
    }
   ],
   "source": [
    "import pandas as pd\n",
    "from sklearn.model_selection import train_test_split\n",
    "from sklearn.ensemble import RandomForestClassifier\n",
    "from sklearn.metrics import classification_report\n",
    "from sklearn.preprocessing import LabelEncoder\n",
    "\n",
    "# Sample DataFrame creation (assuming you have the DataFrame `df` already)\n",
    "# If you have not already done so, load your DataFrame here\n",
    "# df = pd.read_csv('your_data_file.csv')  # Load your data\n",
    "\n",
    "# Step 1: Fill missing values in Missing_Info and encode it\n",
    "df['Missing_Info'] = df['Missing_Info'].fillna(0)  # Assuming 0 means no missing info\n",
    "df['Missing_Info'] = df['Missing_Info'].replace({'0': 0, '1': 1}).astype(int)\n",
    "\n",
    "# Step 2: Feature Selection\n",
    "X = df[['Patient_Age', 'Gender', 'Medication', 'Adverse_Event', 'Severity_Level', 'Unusual_Symptoms']]\n",
    "y = df['Missing_Info']\n",
    "\n",
    "# Step 3: Encode categorical variables\n",
    "X = pd.get_dummies(X, drop_first=True)\n",
    "\n",
    "# Step 4: Train-Test Split\n",
    "X_train, X_test, y_train, y_test = train_test_split(X, y, test_size=0.2, random_state=42)\n",
    "\n",
    "# Step 5: Model Training\n",
    "model = RandomForestClassifier(random_state=42)\n",
    "model.fit(X_train, y_train)\n",
    "\n",
    "# Step 6: Make Predictions\n",
    "y_pred = model.predict(X_test)\n",
    "\n",
    "# Step 7: Evaluate Model\n",
    "print(classification_report(y_test, y_pred))\n"
   ]
  },
  {
   "cell_type": "code",
   "execution_count": 19,
   "id": "0bce76ec-a247-4898-b01e-d089915c03e6",
   "metadata": {},
   "outputs": [
    {
     "name": "stdout",
     "output_type": "stream",
     "text": [
      "Missing_Info\n",
      "0    3\n",
      "1    2\n",
      "Name: count, dtype: int64\n"
     ]
    }
   ],
   "source": [
    "# Check the class distribution\n",
    "print(df['Missing_Info'].value_counts())\n"
   ]
  },
  {
   "cell_type": "code",
   "execution_count": 21,
   "id": "aa4c0c03-2dcc-40f7-8211-8e005d1bbe69",
   "metadata": {},
   "outputs": [
    {
     "name": "stdout",
     "output_type": "stream",
     "text": [
      "Missing_Info\n",
      "0    3\n",
      "1    3\n",
      "Name: count, dtype: int64\n"
     ]
    }
   ],
   "source": [
    "from sklearn.utils import resample\n",
    "\n",
    "# Separate majority and minority classes\n",
    "df_majority = df[df['Missing_Info'] == 0]\n",
    "df_minority = df[df['Missing_Info'] == 1]\n",
    "\n",
    "# Upsample minority class\n",
    "df_minority_upsampled = resample(df_minority, \n",
    "                                   replace=True,     # Sample with replacement\n",
    "                                   n_samples=len(df_majority),    # To match majority class\n",
    "                                   random_state=42) # reproducible results\n",
    "\n",
    "# Combine majority class with upsampled minority class\n",
    "df_upsampled = pd.concat([df_majority, df_minority_upsampled])\n",
    "\n",
    "# Shuffle the dataset\n",
    "df_upsampled = df_upsampled.sample(frac=1, random_state=42).reset_index(drop=True)\n",
    "\n",
    "# Check new class distribution\n",
    "print(df_upsampled['Missing_Info'].value_counts())\n"
   ]
  },
  {
   "cell_type": "code",
   "execution_count": 23,
   "id": "7275c98c-4dc8-4b56-95f9-4d88adb4cde9",
   "metadata": {},
   "outputs": [],
   "source": [
    "# Use df_upsampled for your features and target\n",
    "X = df_upsampled[['Patient_Age', 'Gender', 'Medication', 'Adverse_Event', 'Severity_Level', 'Unusual_Symptoms']]\n",
    "y = df_upsampled['Missing_Info']\n",
    "\n",
    "# Continue with the rest of your model training code...\n"
   ]
  },
  {
   "cell_type": "code",
   "execution_count": 27,
   "id": "7ea627fa-1215-45c0-9b47-4d4afa8778ba",
   "metadata": {},
   "outputs": [
    {
     "name": "stdout",
     "output_type": "stream",
     "text": [
      "              precision    recall  f1-score   support\n",
      "\n",
      "           0       0.00      0.00      0.00       2.0\n",
      "           1       0.00      0.00      0.00       0.0\n",
      "\n",
      "    accuracy                           0.00       2.0\n",
      "   macro avg       0.00      0.00      0.00       2.0\n",
      "weighted avg       0.00      0.00      0.00       2.0\n",
      "\n"
     ]
    },
    {
     "name": "stderr",
     "output_type": "stream",
     "text": [
      "C:\\Users\\saik7\\anaconda3\\Lib\\site-packages\\sklearn\\metrics\\_classification.py:1531: UndefinedMetricWarning: Precision is ill-defined and being set to 0.0 in labels with no predicted samples. Use `zero_division` parameter to control this behavior.\n",
      "  _warn_prf(average, modifier, f\"{metric.capitalize()} is\", len(result))\n",
      "C:\\Users\\saik7\\anaconda3\\Lib\\site-packages\\sklearn\\metrics\\_classification.py:1531: UndefinedMetricWarning: Recall is ill-defined and being set to 0.0 in labels with no true samples. Use `zero_division` parameter to control this behavior.\n",
      "  _warn_prf(average, modifier, f\"{metric.capitalize()} is\", len(result))\n",
      "C:\\Users\\saik7\\anaconda3\\Lib\\site-packages\\sklearn\\metrics\\_classification.py:1531: UndefinedMetricWarning: Precision is ill-defined and being set to 0.0 in labels with no predicted samples. Use `zero_division` parameter to control this behavior.\n",
      "  _warn_prf(average, modifier, f\"{metric.capitalize()} is\", len(result))\n",
      "C:\\Users\\saik7\\anaconda3\\Lib\\site-packages\\sklearn\\metrics\\_classification.py:1531: UndefinedMetricWarning: Recall is ill-defined and being set to 0.0 in labels with no true samples. Use `zero_division` parameter to control this behavior.\n",
      "  _warn_prf(average, modifier, f\"{metric.capitalize()} is\", len(result))\n",
      "C:\\Users\\saik7\\anaconda3\\Lib\\site-packages\\sklearn\\metrics\\_classification.py:1531: UndefinedMetricWarning: Precision is ill-defined and being set to 0.0 in labels with no predicted samples. Use `zero_division` parameter to control this behavior.\n",
      "  _warn_prf(average, modifier, f\"{metric.capitalize()} is\", len(result))\n",
      "C:\\Users\\saik7\\anaconda3\\Lib\\site-packages\\sklearn\\metrics\\_classification.py:1531: UndefinedMetricWarning: Recall is ill-defined and being set to 0.0 in labels with no true samples. Use `zero_division` parameter to control this behavior.\n",
      "  _warn_prf(average, modifier, f\"{metric.capitalize()} is\", len(result))\n"
     ]
    }
   ],
   "source": [
    "import pandas as pd\n",
    "from sklearn.model_selection import train_test_split\n",
    "from sklearn.ensemble import RandomForestClassifier\n",
    "from sklearn.metrics import classification_report\n",
    "from sklearn.preprocessing import LabelEncoder\n",
    "\n",
    "# Assuming df_upsampled is already created and contains balanced classes\n",
    "\n",
    "# Step 1: Encoding Categorical Features\n",
    "# Initialize the LabelEncoder\n",
    "label_encoders = {}\n",
    "categorical_columns = ['Gender', 'Medication', 'Adverse_Event', 'Severity_Level']\n",
    "\n",
    "for col in categorical_columns:\n",
    "    le = LabelEncoder()\n",
    "    df_upsampled[col] = le.fit_transform(df_upsampled[col])\n",
    "    label_encoders[col] = le\n",
    "\n",
    "# Step 2: Prepare Features and Target Variable\n",
    "X = df_upsampled[['Patient_Age', 'Gender', 'Medication', 'Adverse_Event', 'Severity_Level', 'Unusual_Symptoms']]\n",
    "y = df_upsampled['Missing_Info']\n",
    "\n",
    "# Step 3: Split the Data\n",
    "X_train, X_test, y_train, y_test = train_test_split(X, y, test_size=0.2, random_state=42)\n",
    "\n",
    "# Step 4: Train the Model\n",
    "model = RandomForestClassifier(random_state=42)\n",
    "model.fit(X_train, y_train)\n",
    "\n",
    "# Step 5: Make Predictions\n",
    "y_pred = model.predict(X_test)\n",
    "\n",
    "# Step 6: Evaluate the Model\n",
    "print(classification_report(y_test, y_pred))\n"
   ]
  },
  {
   "cell_type": "code",
   "execution_count": 29,
   "id": "b466914f-1a3a-4361-853f-9e4379e68b54",
   "metadata": {},
   "outputs": [
    {
     "name": "stdout",
     "output_type": "stream",
     "text": [
      "Missing_Info\n",
      "0    3\n",
      "1    3\n",
      "Name: count, dtype: int64\n"
     ]
    }
   ],
   "source": [
    "print(y.value_counts())\n"
   ]
  },
  {
   "cell_type": "code",
   "execution_count": 31,
   "id": "fb36c57d-2399-4c2d-898c-8b6a05e25a4d",
   "metadata": {},
   "outputs": [
    {
     "name": "stdout",
     "output_type": "stream",
     "text": [
      "Training set shape: (4, 6), Testing set shape: (2, 6)\n"
     ]
    }
   ],
   "source": [
    "from sklearn.model_selection import train_test_split\n",
    "\n",
    "# Splitting the dataset into training and testing sets\n",
    "X_train, X_test, y_train, y_test = train_test_split(X, y, test_size=0.2, random_state=42, stratify=y)\n",
    "\n",
    "# Check the shapes of the resulting datasets\n",
    "print(f\"Training set shape: {X_train.shape}, Testing set shape: {X_test.shape}\")\n"
   ]
  },
  {
   "cell_type": "code",
   "execution_count": 33,
   "id": "1c8b1352-1e9b-48c3-ad6a-6848650b4b1b",
   "metadata": {},
   "outputs": [
    {
     "name": "stdout",
     "output_type": "stream",
     "text": [
      "RandomForestClassifier(random_state=42)\n"
     ]
    }
   ],
   "source": [
    "from sklearn.ensemble import RandomForestClassifier\n",
    "\n",
    "# Create and train the Random Forest model\n",
    "model = RandomForestClassifier(random_state=42)\n",
    "model.fit(X_train, y_train)\n",
    "\n",
    "# Print the model\n",
    "print(model)\n"
   ]
  },
  {
   "cell_type": "code",
   "execution_count": 35,
   "id": "3f405fb6-8156-4f6a-a8ce-cf57f8a4d399",
   "metadata": {},
   "outputs": [
    {
     "name": "stdout",
     "output_type": "stream",
     "text": [
      "Predictions: [1 0]\n"
     ]
    }
   ],
   "source": [
    "# Make predictions on the test set\n",
    "y_pred = model.predict(X_test)\n",
    "\n",
    "# Print the predictions\n",
    "print(\"Predictions:\", y_pred)\n"
   ]
  },
  {
   "cell_type": "code",
   "execution_count": 37,
   "id": "20c2059f-4612-40ab-9e12-44cbe051abaf",
   "metadata": {},
   "outputs": [
    {
     "name": "stdout",
     "output_type": "stream",
     "text": [
      "              precision    recall  f1-score   support\n",
      "\n",
      "           0       1.00      1.00      1.00         1\n",
      "           1       1.00      1.00      1.00         1\n",
      "\n",
      "    accuracy                           1.00         2\n",
      "   macro avg       1.00      1.00      1.00         2\n",
      "weighted avg       1.00      1.00      1.00         2\n",
      "\n",
      "Confusion Matrix:\n",
      " [[1 0]\n",
      " [0 1]]\n"
     ]
    }
   ],
   "source": [
    "from sklearn.metrics import classification_report, confusion_matrix\n",
    "\n",
    "# Print the classification report\n",
    "print(classification_report(y_test, y_pred))\n",
    "\n",
    "# Print the confusion matrix\n",
    "print(\"Confusion Matrix:\\n\", confusion_matrix(y_test, y_pred))\n"
   ]
  },
  {
   "cell_type": "code",
   "execution_count": 39,
   "id": "a71d06d1-34ec-42d1-a117-53015f5c1c5d",
   "metadata": {},
   "outputs": [
    {
     "name": "stdout",
     "output_type": "stream",
     "text": [
      "            Feature  Importance\n",
      "0       Patient_Age    0.264368\n",
      "3     Adverse_Event    0.219668\n",
      "1            Gender    0.199234\n",
      "2        Medication    0.125798\n",
      "4    Severity_Level    0.106003\n",
      "5  Unusual_Symptoms    0.084930\n"
     ]
    }
   ],
   "source": [
    "import pandas as pd\n",
    "import numpy as np\n",
    "\n",
    "# Get feature importance\n",
    "feature_importance = model.feature_importances_\n",
    "features = X.columns\n",
    "importance_df = pd.DataFrame({'Feature': features, 'Importance': feature_importance})\n",
    "importance_df = importance_df.sort_values(by='Importance', ascending=False)\n",
    "\n",
    "print(importance_df)\n"
   ]
  },
  {
   "cell_type": "code",
   "execution_count": 41,
   "id": "a5a4a8f9-8fd4-4f80-9629-aedd50b227b0",
   "metadata": {},
   "outputs": [
    {
     "data": {
      "image/png": "[encoded data removed]",
      "text/plain": [
       "<Figure size 1000x600 with 1 Axes>"
      ]
     },
     "metadata": {},
     "output_type": "display_data"
    }
   ],
   "source": [
    "import matplotlib.pyplot as plt\n",
    "\n",
    "plt.figure(figsize=(10, 6))\n",
    "plt.barh(importance_df['Feature'], importance_df['Importance'], color='skyblue')\n",
    "plt.xlabel('Importance')\n",
    "plt.title('Feature Importance from Random Forest Model')\n",
    "plt.show()\n"
   ]
  },
  {
   "cell_type": "code",
   "execution_count": 43,
   "id": "c15bc09a-308e-42e7-8acc-f8f108fa69b2",
   "metadata": {},
   "outputs": [
    {
     "data": {
      "image/png": "[encoded data removed]",
      "text/plain": [
       "<Figure size 1000x600 with 1 Axes>"
      ]
     },
     "metadata": {},
     "output_type": "display_data"
    }
   ],
   "source": [
    "import matplotlib.pyplot as plt\n",
    "\n",
    "# Assuming you have the importance_df DataFrame from the previous steps\n",
    "plt.figure(figsize=(10, 6))\n",
    "plt.barh(importance_df['Feature'], importance_df['Importance'], color='skyblue')\n",
    "plt.xlabel('Importance')\n",
    "plt.title('Feature Importance from Random Forest Model')\n",
    "plt.grid(axis='x', linestyle='--', alpha=0.7)\n",
    "plt.show()\n"
   ]
  },
  {
   "cell_type": "code",
   "execution_count": 47,
   "id": "cf9e15a5-7e17-4c7e-8056-4bc1f6f52551",
   "metadata": {},
   "outputs": [
    {
     "name": "stdout",
     "output_type": "stream",
     "text": [
      "Cross-Validation Scores: [0.5 0.5 1. ]\n",
      "Mean Cross-Validation Score: 0.6666666666666666\n"
     ]
    }
   ],
   "source": [
    "from sklearn.model_selection import cross_val_score\n",
    "\n",
    "# Perform cross-validation\n",
    "cv_scores = cross_val_score(model, X, y, cv=3)  # 5-fold cross-validation\n",
    "\n",
    "# Display the cross-validation scores\n",
    "print(\"Cross-Validation Scores:\", cv_scores)\n",
    "print(\"Mean Cross-Validation Score:\", cv_scores.mean())\n"
   ]
  },
  {
   "cell_type": "code",
   "execution_count": 51,
   "id": "6f220d6c-d4a1-4861-9462-b7e718dad8d9",
   "metadata": {},
   "outputs": [
    {
     "name": "stdout",
     "output_type": "stream",
     "text": [
      "Best Parameters: {'max_depth': None, 'min_samples_leaf': 1, 'min_samples_split': 2, 'n_estimators': 50}\n",
      "Best Cross-Validation Score: 0.6666666666666666\n"
     ]
    }
   ],
   "source": [
    "from sklearn.model_selection import GridSearchCV\n",
    "\n",
    "# Define the parameter grid\n",
    "param_grid = {\n",
    "    'n_estimators': [50, 100, 200],\n",
    "    'max_depth': [None, 10, 20],\n",
    "    'min_samples_split': [2, 5],\n",
    "    'min_samples_leaf': [1, 2]\n",
    "}\n",
    "\n",
    "# Initialize GridSearchCV\n",
    "grid_search = GridSearchCV(estimator=model, param_grid=param_grid, cv=3, scoring='accuracy')\n",
    "\n",
    "# Fit GridSearchCV\n",
    "grid_search.fit(X, y)\n",
    "\n",
    "# Best parameters and best score\n",
    "print(\"Best Parameters:\", grid_search.best_params_)\n",
    "print(\"Best Cross-Validation Score:\", grid_search.best_score_)\n"
   ]
  },
  {
   "cell_type": "code",
   "execution_count": 53,
   "id": "a489e06a-1f1a-427a-9c52-50eb66b29907",
   "metadata": {},
   "outputs": [
    {
     "name": "stdout",
     "output_type": "stream",
     "text": [
      "Classification Report:\n",
      "               precision    recall  f1-score   support\n",
      "\n",
      "           0       1.00      1.00      1.00         1\n",
      "           1       1.00      1.00      1.00         1\n",
      "\n",
      "    accuracy                           1.00         2\n",
      "   macro avg       1.00      1.00      1.00         2\n",
      "weighted avg       1.00      1.00      1.00         2\n",
      "\n",
      "Confusion Matrix:\n",
      " [[1 0]\n",
      " [0 1]]\n"
     ]
    }
   ],
   "source": [
    "# Initialize Random Forest with best parameters\n",
    "best_model = RandomForestClassifier(\n",
    "    n_estimators=50,\n",
    "    max_depth=None,\n",
    "    min_samples_split=2,\n",
    "    min_samples_leaf=1,\n",
    "    random_state=42\n",
    ")\n",
    "\n",
    "# Fit the model on the training set\n",
    "best_model.fit(X_train, y_train)\n",
    "\n",
    "# Make predictions on the test set\n",
    "y_pred_best = best_model.predict(X_test)\n",
    "\n",
    "# Evaluate the model\n",
    "from sklearn.metrics import classification_report, confusion_matrix\n",
    "\n",
    "print(\"Classification Report:\\n\", classification_report(y_test, y_pred_best))\n",
    "print(\"Confusion Matrix:\\n\", confusion_matrix(y_test, y_pred_best))\n"
   ]
  },
  {
   "cell_type": "code",
   "execution_count": 55,
   "id": "3e8a8e71-f9b2-4e8c-86fb-afc062abb74b",
   "metadata": {},
   "outputs": [
    {
     "data": {
      "image/png": "[encoded data removed]",
      "text/plain": [
       "<Figure size 1000x600 with 1 Axes>"
      ]
     },
     "metadata": {},
     "output_type": "display_data"
    }
   ],
   "source": [
    "import matplotlib.pyplot as plt\n",
    "import seaborn as sns\n",
    "\n",
    "# Get feature importances\n",
    "importances = best_model.feature_importances_\n",
    "feature_names = X.columns\n",
    "\n",
    "# Create a DataFrame for visualization\n",
    "importance_df = pd.DataFrame({'Feature': feature_names, 'Importance': importances})\n",
    "\n",
    "# Sort the DataFrame\n",
    "importance_df = importance_df.sort_values(by='Importance', ascending=False)\n",
    "\n",
    "# Plotting\n",
    "plt.figure(figsize=(10, 6))\n",
    "sns.barplot(x='Importance', y='Feature', data=importance_df)\n",
    "plt.title('Feature Importance')\n",
    "plt.show()\n"
   ]
  },
  {
   "cell_type": "code",
   "execution_count": 67,
   "id": "56822300-bca0-4c71-a524-ab31d6484ca6",
   "metadata": {},
   "outputs": [
    {
     "data": {
      "text/plain": [
       "['model.pkl']"
      ]
     },
     "execution_count": 67,
     "metadata": {},
     "output_type": "execute_result"
    }
   ],
   "source": [
    "import joblib\n",
    "\n",
    "# Save the model\n",
    "joblib.dump(model, 'model.pkl')\n"
   ]
  },
  {
   "cell_type": "code",
   "execution_count": 71,
   "id": "7079df7e-6ab7-482b-a769-ac946785bcc9",
   "metadata": {},
   "outputs": [
    {
     "name": "stdout",
     "output_type": "stream",
     "text": [
      "Input Data with Predictions:\n",
      "   Patient_Age  Unusual_Symptoms  Gender_M  Medication_Drug_B  \\\n",
      "0           30                 0         0                  0   \n",
      "1           45                 1         0                  0   \n",
      "2           60                 0         0                  0   \n",
      "3           25                 1         0                  0   \n",
      "4           70                 0         0                  0   \n",
      "\n",
      "   Medication_Drug_C  Adverse_Event_Headache  Adverse_Event_Nausea  \\\n",
      "0                  0                   False                  True   \n",
      "1                  0                    True                 False   \n",
      "2                  0                   False                 False   \n",
      "3                  0                   False                  True   \n",
      "4                  0                   False                 False   \n",
      "\n",
      "   Adverse_Event_Skin Rash  Severity_Level_Low  Severity_Level_Medium  \\\n",
      "0                        0                   0                      0   \n",
      "1                        0                   0                      0   \n",
      "2                        0                   0                      0   \n",
      "3                        0                   0                      0   \n",
      "4                        0                   0                      0   \n",
      "\n",
      "   Missing_Info  \n",
      "0             1  \n",
      "1             0  \n",
      "2             1  \n",
      "3             0  \n",
      "4             1  \n"
     ]
    },
    {
     "name": "stderr",
     "output_type": "stream",
     "text": [
      "C:\\Users\\saik7\\AppData\\Local\\Temp\\ipykernel_32392\\41174123.py:21: FutureWarning: Downcasting behavior in `replace` is deprecated and will be removed in a future version. To retain the old behavior, explicitly call `result.infer_objects(copy=False)`. To opt-in to the future behavior, set `pd.set_option('future.no_silent_downcasting', True)`\n",
      "  df_input['Gender'] = df_input['Gender'].replace({'Male': 1, 'Female': 0})  # Simple encoding\n"
     ]
    }
   ],
   "source": [
    "import pandas as pd\n",
    "import joblib\n",
    "\n",
    "# Sample input data for PV case reports\n",
    "input_data = {\n",
    "    'Patient_Age': [30, 45, 60, 25, 70],\n",
    "    'Gender': ['Female', 'Male', 'Female', 'Male', 'Female'],\n",
    "    'Medication': ['MedA', 'MedB', 'MedC', 'MedA', 'MedC'],\n",
    "    'Adverse_Event': ['Nausea', 'Headache', 'Dizziness', 'Nausea', 'Fatigue'],\n",
    "    'Severity_Level': ['Mild', 'Moderate', 'Severe', 'Mild', 'Moderate'],\n",
    "    'Unusual_Symptoms': [0, 1, 0, 1, 0]\n",
    "}\n",
    "\n",
    "# Convert the input data into a DataFrame\n",
    "df_input = pd.DataFrame(input_data)\n",
    "\n",
    "# Load the model and get the feature names used during training\n",
    "model = joblib.load('model.pkl')\n",
    "\n",
    "# Preprocess the input data (match with training preprocessing)\n",
    "df_input['Gender'] = df_input['Gender'].replace({'Male': 1, 'Female': 0})  # Simple encoding\n",
    "df_input = pd.get_dummies(df_input, columns=['Medication', 'Adverse_Event', 'Severity_Level'], drop_first=True)\n",
    "\n",
    "# Align the columns to match those seen during training\n",
    "# Assume 'feature_names' is a list of the feature names used during training\n",
    "feature_names = model.feature_names_in_  # Get feature names from the trained model\n",
    "\n",
    "# Reindex the DataFrame to ensure it has the same columns\n",
    "df_input = df_input.reindex(columns=feature_names, fill_value=0)\n",
    "\n",
    "# Make predictions using the preprocessed input data\n",
    "predictions = model.predict(df_input)\n",
    "\n",
    "# Add predictions to the DataFrame\n",
    "df_input['Missing_Info'] = predictions\n",
    "\n",
    "# Display the results\n",
    "print(\"Input Data with Predictions:\")\n",
    "print(df_input)\n"
   ]
  },
  {
   "cell_type": "code",
   "execution_count": null,
   "id": "8f5cf80b-6ccd-4730-8bf2-9c3938722fbc",
   "metadata": {},
   "outputs": [],
   "source": []
  }
 ],
 "metadata": {
  "kernelspec": {
   "display_name": "Python 3 (ipykernel)",
   "language": "python",
   "name": "python3"
  },
  "language_info": {
   "codemirror_mode": {
    "name": "ipython",
    "version": 3
   },
   "file_extension": ".py",
   "mimetype": "text/x-python",
   "name": "python",
   "nbconvert_exporter": "python",
   "pygments_lexer": "ipython3",
   "version": "3.12.4"
  }
 },
 "nbformat": 4,
 "nbformat_minor": 5
}
